{
 "cells": [
  {
   "cell_type": "code",
   "execution_count": 1,
   "id": "c4abc007",
   "metadata": {},
   "outputs": [],
   "source": [
    "import os\n",
    "import sys\n",
    "os.environ[\"PYSPARK_PYTHON\"] = \"/home/ec2-user/spark-2.4.4-bin-hadoop2.7/python\"\n",
    "os.environ[\"JAVA_HOME\"] = \"/usr/java/jdk1.8.0_161/jre\"\n",
    "os.environ[\"SPARK_HOME\"] = \"/home/ec2-user/spark-2.4.4-bin-hadoop2.7\"\n",
    "os.environ[\"PYLIB\"] = os.environ[\"SPARK_HOME\"] + \"/python/lib\"\n",
    "sys.path.insert(0, os.environ[\"PYLIB\"] + \"/py4j-0.10.7-src.zip\")\n",
    "sys.path.insert(0, os.environ[\"PYLIB\"] + \"/pyspark.zip\")"
   ]
  },
  {
   "cell_type": "code",
   "execution_count": 2,
   "id": "685f883c",
   "metadata": {},
   "outputs": [],
   "source": [
    "from pyspark.sql import SparkSession"
   ]
  },
  {
   "cell_type": "code",
   "execution_count": 3,
   "id": "9b6a1556",
   "metadata": {},
   "outputs": [],
   "source": [
    "spark = SparkSession.builder.appName(\"assignment2\").getOrCreate()"
   ]
  },
  {
   "cell_type": "markdown",
   "id": "c1bfe863",
   "metadata": {},
   "source": [
    "### Load data and create a Spark data frame"
   ]
  },
  {
   "cell_type": "code",
   "execution_count": 4,
   "id": "bdaeba4b",
   "metadata": {},
   "outputs": [],
   "source": [
    "df = spark.read.option(\"delimiter\", \";\").csv(\"Project 1_dataset_bank-full.csv\", inferSchema=True, header=True, )"
   ]
  },
  {
   "cell_type": "code",
   "execution_count": 5,
   "id": "ffe549dc",
   "metadata": {},
   "outputs": [
    {
     "name": "stdout",
     "output_type": "stream",
     "text": [
      "root\n",
      " |-- age: integer (nullable = true)\n",
      " |-- job: string (nullable = true)\n",
      " |-- marital: string (nullable = true)\n",
      " |-- education: string (nullable = true)\n",
      " |-- default: string (nullable = true)\n",
      " |-- balance: integer (nullable = true)\n",
      " |-- housing: string (nullable = true)\n",
      " |-- loan: string (nullable = true)\n",
      " |-- contact: string (nullable = true)\n",
      " |-- day: integer (nullable = true)\n",
      " |-- month: string (nullable = true)\n",
      " |-- duration: integer (nullable = true)\n",
      " |-- campaign: integer (nullable = true)\n",
      " |-- pdays: integer (nullable = true)\n",
      " |-- previous: integer (nullable = true)\n",
      " |-- poutcome: string (nullable = true)\n",
      " |-- y: string (nullable = true)\n",
      "\n"
     ]
    }
   ],
   "source": [
    "df.printSchema()"
   ]
  },
  {
   "cell_type": "code",
   "execution_count": 6,
   "id": "5c202fa7",
   "metadata": {},
   "outputs": [
    {
     "name": "stdout",
     "output_type": "stream",
     "text": [
      "+---+----------+-------+---------+-------+-------+-------+----+-------+---+-----+--------+--------+-----+--------+--------+---+\n",
      "|age|       job|marital|education|default|balance|housing|loan|contact|day|month|duration|campaign|pdays|previous|poutcome|  y|\n",
      "+---+----------+-------+---------+-------+-------+-------+----+-------+---+-----+--------+--------+-----+--------+--------+---+\n",
      "| 58|management|married| tertiary|     no|   2143|    yes|  no|unknown|  5|  may|     261|       1|   -1|       0| unknown| no|\n",
      "+---+----------+-------+---------+-------+-------+-------+----+-------+---+-----+--------+--------+-----+--------+--------+---+\n",
      "only showing top 1 row\n",
      "\n"
     ]
    }
   ],
   "source": [
    "df.show(1)"
   ]
  },
  {
   "cell_type": "markdown",
   "id": "3a177ca5",
   "metadata": {},
   "source": [
    "### Give marketing success rate (No. of people subscribed / total no. of entries)"
   ]
  },
  {
   "cell_type": "code",
   "execution_count": 7,
   "id": "2900a64e",
   "metadata": {},
   "outputs": [
    {
     "data": {
      "text/plain": [
       "11.698480458295547"
      ]
     },
     "execution_count": 7,
     "metadata": {},
     "output_type": "execute_result"
    }
   ],
   "source": [
    "df.filter(df['y'] == 'yes').count()/df.count() * 100"
   ]
  },
  {
   "cell_type": "markdown",
   "id": "303cdbc0",
   "metadata": {},
   "source": [
    "### Give marketing failure rate"
   ]
  },
  {
   "cell_type": "code",
   "execution_count": 8,
   "id": "fd08bc64",
   "metadata": {},
   "outputs": [
    {
     "data": {
      "text/plain": [
       "88.30151954170445"
      ]
     },
     "execution_count": 8,
     "metadata": {},
     "output_type": "execute_result"
    }
   ],
   "source": [
    "df.filter(df['y'] == 'no').count()/df.count() * 100"
   ]
  },
  {
   "cell_type": "markdown",
   "id": "82994568",
   "metadata": {},
   "source": [
    "### Give the maximum, mean, and minimum age of the average targeted customer"
   ]
  },
  {
   "cell_type": "code",
   "execution_count": 9,
   "id": "5a55bc92",
   "metadata": {},
   "outputs": [
    {
     "name": "stdout",
     "output_type": "stream",
     "text": [
      "+-------+------------------+\n",
      "|summary|               age|\n",
      "+-------+------------------+\n",
      "|  count|             45211|\n",
      "|   mean| 40.93621021432837|\n",
      "| stddev|10.618762040975405|\n",
      "|    min|                18|\n",
      "|    max|                95|\n",
      "+-------+------------------+\n",
      "\n"
     ]
    }
   ],
   "source": [
    "df.describe().select(['summary','age']).show()"
   ]
  },
  {
   "cell_type": "markdown",
   "id": "7a8872f3",
   "metadata": {},
   "source": [
    "### Check the quality of customers by checking average balance, median balance of customers"
   ]
  },
  {
   "cell_type": "code",
   "execution_count": 10,
   "id": "7f1a7724",
   "metadata": {},
   "outputs": [
    {
     "name": "stdout",
     "output_type": "stream",
     "text": [
      "+------------------+--------------+\n",
      "|       avg_balance|median_balance|\n",
      "+------------------+--------------+\n",
      "|1362.2720576850766|           448|\n",
      "+------------------+--------------+\n",
      "\n"
     ]
    }
   ],
   "source": [
    "df.registerTempTable(\"df_table\")\n",
    "spark.sql(\"SELECT AVG(BALANCE) as avg_balance, percentile_approx(BALANCE,0.5) as median_balance FROM df_table\").show()"
   ]
  },
  {
   "cell_type": "markdown",
   "id": "4db36d90",
   "metadata": {},
   "source": [
    "### Check if age matters in marketing subscription for deposit\n",
    "ans: Age is **not** the factor as median and stddev is not having much difference"
   ]
  },
  {
   "cell_type": "code",
   "execution_count": 11,
   "id": "02aa082f",
   "metadata": {},
   "outputs": [
    {
     "name": "stdout",
     "output_type": "stream",
     "text": [
      "+-------+------------------+\n",
      "|summary|               age|\n",
      "+-------+------------------+\n",
      "|  count|              5289|\n",
      "|   mean|41.670069956513515|\n",
      "| stddev|13.497781462199919|\n",
      "|    min|                18|\n",
      "|    max|                95|\n",
      "+-------+------------------+\n",
      "\n"
     ]
    }
   ],
   "source": [
    "df.filter(df['y']=='yes').describe().select(['summary','age']).show()"
   ]
  },
  {
   "cell_type": "code",
   "execution_count": 12,
   "id": "1fc8a28c",
   "metadata": {},
   "outputs": [
    {
     "name": "stdout",
     "output_type": "stream",
     "text": [
      "+-------+------------------+\n",
      "|summary|               age|\n",
      "+-------+------------------+\n",
      "|  count|             39922|\n",
      "|   mean| 40.83898602274435|\n",
      "| stddev|10.172662094342575|\n",
      "|    min|                18|\n",
      "|    max|                95|\n",
      "+-------+------------------+\n",
      "\n"
     ]
    }
   ],
   "source": [
    "df.filter(df['y']=='no').describe().select(['summary','age']).show()"
   ]
  },
  {
   "cell_type": "markdown",
   "id": "5f7c77cd",
   "metadata": {},
   "source": [
    "### Check if marital status mattered for a subscription to deposit\n",
    "ans: `Single` people are having the highest persent(~15%) of enrollment among the all the categoreies but there id **no** storng relationship here as for all the marital categories succesful enrolment is in between 10%-15% which is not a big gap."
   ]
  },
  {
   "cell_type": "code",
   "execution_count": 13,
   "id": "036d02a3",
   "metadata": {},
   "outputs": [
    {
     "name": "stdout",
     "output_type": "stream",
     "text": [
      "+--------+-----+\n",
      "| marital|count|\n",
      "+--------+-----+\n",
      "|divorced| 5207|\n",
      "| married|27214|\n",
      "|  single|12790|\n",
      "+--------+-----+\n",
      "\n"
     ]
    }
   ],
   "source": [
    "df.groupby(\"marital\").count().registerTempTable(\"df_marital_total\")\n",
    "df.groupby(\"marital\").count().show()"
   ]
  },
  {
   "cell_type": "code",
   "execution_count": 14,
   "id": "727f7c04",
   "metadata": {
    "scrolled": true
   },
   "outputs": [
    {
     "name": "stdout",
     "output_type": "stream",
     "text": [
      "+--------+-----+\n",
      "| marital|count|\n",
      "+--------+-----+\n",
      "|divorced|  622|\n",
      "| married| 2755|\n",
      "|  single| 1912|\n",
      "+--------+-----+\n",
      "\n"
     ]
    }
   ],
   "source": [
    "df.filter(df['y']=='yes').groupby(\"marital\").count().registerTempTable(\"df_marital_yes\")\n",
    "df.filter(df['y']=='yes').groupby(\"marital\").count().show()"
   ]
  },
  {
   "cell_type": "code",
   "execution_count": 15,
   "id": "3ca55543",
   "metadata": {},
   "outputs": [
    {
     "name": "stdout",
     "output_type": "stream",
     "text": [
      "+--------+-----------------------------------------------+\n",
      "| marital|(CAST(count AS DOUBLE) / CAST(count AS DOUBLE))|\n",
      "+--------+-----------------------------------------------+\n",
      "|divorced|                            0.11945458037257538|\n",
      "| married|                            0.10123465863158668|\n",
      "|  single|                             0.1494917904612979|\n",
      "+--------+-----------------------------------------------+\n",
      "\n"
     ]
    }
   ],
   "source": [
    "spark.sql(\"select t.marital, y.count/t.count from df_marital_total t inner join df_marital_yes y on t.marital=y.marital\").show()"
   ]
  },
  {
   "cell_type": "markdown",
   "id": "714c6d48",
   "metadata": {},
   "source": [
    "### Check if age and marital status together mattered for a subscription to deposit scheme\n",
    "ans: **Yes**, age and marital status together mattered for a subscription to deposit scheme"
   ]
  },
  {
   "cell_type": "code",
   "execution_count": 16,
   "id": "ed9cffd5",
   "metadata": {},
   "outputs": [
    {
     "name": "stdout",
     "output_type": "stream",
     "text": [
      "+--------+---+-----+\n",
      "| marital|age|count|\n",
      "+--------+---+-----+\n",
      "| married| 56|  564|\n",
      "|divorced| 77|    5|\n",
      "| married| 47|  826|\n",
      "|  single| 45|  146|\n",
      "| married| 80|   29|\n",
      "| married| 55|  589|\n",
      "|divorced| 89|    1|\n",
      "| married| 39|  960|\n",
      "| married| 89|    2|\n",
      "| married| 38|  905|\n",
      "|divorced| 26|   20|\n",
      "|  single| 73|    2|\n",
      "| married| 33| 1075|\n",
      "| married| 32| 1007|\n",
      "|divorced| 95|    1|\n",
      "|  single| 30| 1012|\n",
      "| married| 22|    9|\n",
      "|divorced| 84|    3|\n",
      "|  single| 38|  394|\n",
      "|divorced| 78|   12|\n",
      "+--------+---+-----+\n",
      "only showing top 20 rows\n",
      "\n"
     ]
    }
   ],
   "source": [
    "df.groupby([\"marital\",\"age\"]).count().registerTempTable(\"df_marital_age_total\")\n",
    "df.groupby([\"marital\",\"age\"]).count().show()"
   ]
  },
  {
   "cell_type": "code",
   "execution_count": 17,
   "id": "4ddfc8fd",
   "metadata": {},
   "outputs": [
    {
     "name": "stdout",
     "output_type": "stream",
     "text": [
      "+--------+---+-----+\n",
      "| marital|age|count|\n",
      "+--------+---+-----+\n",
      "| married| 56|   49|\n",
      "|divorced| 77|    3|\n",
      "| married| 47|   83|\n",
      "|  single| 45|   14|\n",
      "| married| 80|   11|\n",
      "| married| 55|   50|\n",
      "| married| 39|   87|\n",
      "| married| 38|   86|\n",
      "|  single| 73|    1|\n",
      "| married| 32|   87|\n",
      "| married| 33|   97|\n",
      "|divorced| 95|    1|\n",
      "|  single| 30|  151|\n",
      "|divorced| 84|    1|\n",
      "|  single| 38|   38|\n",
      "|divorced| 78|    6|\n",
      "| married| 28|   20|\n",
      "| married| 93|    2|\n",
      "|  single| 20|   14|\n",
      "| married| 26|   13|\n",
      "+--------+---+-----+\n",
      "only showing top 20 rows\n",
      "\n"
     ]
    }
   ],
   "source": [
    "df.filter(df['y']=='yes').groupby([\"marital\",\"age\"]).count().registerTempTable(\"df_marital_age_yes\")\n",
    "df.filter(df['y']=='yes').groupby([\"marital\",\"age\"]).count().show()"
   ]
  },
  {
   "cell_type": "code",
   "execution_count": 19,
   "id": "7a608008",
   "metadata": {},
   "outputs": [
    {
     "name": "stdout",
     "output_type": "stream",
     "text": [
      "+--------+---+-----+-----+------------------+\n",
      "| marital|age|count|count|            s_rate|\n",
      "+--------+---+-----+-----+------------------+\n",
      "| married| 92|    2|    2|               1.0|\n",
      "|divorced| 95|    1|    1|               1.0|\n",
      "|divorced| 90|    2|    2|               1.0|\n",
      "|divorced| 68|    6|    6|               1.0|\n",
      "|divorced| 87|    1|    1|               1.0|\n",
      "| married| 93|    2|    2|               1.0|\n",
      "|divorced| 85|    1|    1|               1.0|\n",
      "|  single| 86|    1|    1|               1.0|\n",
      "|divorced| 67|    7|    8|             0.875|\n",
      "|divorced| 62|    5|    6|0.8333333333333334|\n",
      "|divorced| 76|    6|    8|              0.75|\n",
      "| married| 85|    3|    4|              0.75|\n",
      "|divorced| 71|    8|   11|0.7272727272727273|\n",
      "| married| 84|    4|    6|0.6666666666666666|\n",
      "|divorced| 73|    4|    6|0.6666666666666666|\n",
      "| married| 87|    2|    3|0.6666666666666666|\n",
      "|divorced| 77|    3|    5|               0.6|\n",
      "|  single| 18|    7|   12|0.5833333333333334|\n",
      "|divorced| 63|    4|    7|0.5714285714285714|\n",
      "| married| 73|   19|   36|0.5277777777777778|\n",
      "+--------+---+-----+-----+------------------+\n",
      "only showing top 20 rows\n",
      "\n"
     ]
    }
   ],
   "source": [
    "spark.sql(\"select t.marital, t.age,y.count,t.count, y.count/t.count as s_rate from df_marital_age_total t inner join df_marital_age_yes y on t.marital=y.marital and t.age=y.age order by s_rate desc\").show()"
   ]
  },
  {
   "cell_type": "markdown",
   "id": "3fd72ad5",
   "metadata": {},
   "source": [
    "### Do feature engineering for the bank and find the right age effect on the campaign.\n",
    "We need to do the bucketing of age (18-20,21-30...81-90,91-100) and then run the same analysis as done above"
   ]
  },
  {
   "cell_type": "code",
   "execution_count": null,
   "id": "c3c59a19",
   "metadata": {},
   "outputs": [],
   "source": []
  }
 ],
 "metadata": {
  "kernelspec": {
   "display_name": "Python 3",
   "language": "python",
   "name": "python3"
  },
  "language_info": {
   "codemirror_mode": {
    "name": "ipython",
    "version": 3
   },
   "file_extension": ".py",
   "mimetype": "text/x-python",
   "name": "python",
   "nbconvert_exporter": "python",
   "pygments_lexer": "ipython3",
   "version": "3.7.9"
  }
 },
 "nbformat": 4,
 "nbformat_minor": 5
}
